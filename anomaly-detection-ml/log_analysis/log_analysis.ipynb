{
 "cells": [
  {
   "cell_type": "code",
   "execution_count": 41,
   "id": "a44ed88a",
   "metadata": {},
   "outputs": [
    {
     "name": "stdout",
     "output_type": "stream",
     "text": [
      "Parsing file: data/unstructured/HDFS/HDFS_2k.log\n",
      "Processed 50.0% of log lines.\n",
      "Processed 100.0% of log lines.\n",
      "Parsing done. [Time taken: 0:00:00.201106]\n"
     ]
    }
   ],
   "source": [
    "import pandas as pd\n",
    "import os\n",
    "import numpy as np\n",
    "import re\n",
    "from sklearn.utils import shuffle\n",
    "from collections import OrderedDict\n",
    "import sys\n",
    "sys.path.append('../')\n",
    "from log_parser import Drain\n",
    "\n",
    "\n",
    "log_file_path = 'data/unstructured/HDFS/'\n",
    "label_file_name = 'data/unstructured/HDFS/anomaly_label.csv'\n",
    "unstructured_log_filename = 'HDFS_2k.log'\n",
    "structured_log_file_path = 'data/structured/HDFS/'\n",
    "structured_log_filename = 'HDFS_2k.log_structured.csv'\n",
    "log_templates_file = 'HDFS_2k.log_templates.csv'\n",
    "\n",
    "\n",
    "\n",
    "def parseLog(log_file_path, log_file_name, structured_log_file_path, log_type):\n",
    "    if log_type == 'HDFS':\n",
    "        log_format = '<Date> <Time> <Pid> <Level> <Component>: <Content>'\n",
    "\n",
    "    # Regular expression list for optional preprocessing (default: [])\n",
    "    regex      = [\n",
    "        r'blk_(|-)[0-9]+' , # block id\n",
    "        r'(/|)([0-9]+\\.){3}[0-9]+(:[0-9]+|)(:|)', # IP\n",
    "        r'(?<=[^A-Za-z0-9])(\\-?\\+?\\d+)(?=[^A-Za-z0-9])|[0-9]+$', # Numbers\n",
    "    ]\n",
    "    st         = 0.5  # Similarity threshold\n",
    "    depth      = 4  # Depth of all leaf nodes\n",
    "\n",
    "    parser = Drain.LogParser(log_format, indir=log_file_path, outdir=structured_log_file_path,  depth=depth, st=st, rex=regex)\n",
    "    parser.parse(log_file_name)\n",
    "\n",
    "## parse the logs - convert unstructured to structured log\n",
    "parseLog(log_file_path, unstructured_log_filename, structured_log_file_path, 'HDFS')\n",
    "    \n",
    "\n",
    "## read structured log \n",
    "#print(\"Loading\", structured_log_file_path+structured_log_filename)\n",
    "structured_log = pd.read_csv(structured_log_file_path+structured_log_filename, engine='c', na_filter=False, memory_map=True)\n",
    "\n"
   ]
  },
  {
   "cell_type": "code",
   "execution_count": 49,
   "id": "8fd0e315",
   "metadata": {},
   "outputs": [],
   "source": [
    "# # print(struct_log)\n",
    "# log_temp = pd.read_csv(structured_log_file_path+log_templates_file)\n",
    "# log_temp.sort_values(by = [\"Occurrences\"], ascending=False, inplace=True)\n",
    "# log_temp_dict = {event: idx+1 for idx , event in enumerate(list(log_temp[\"EventId\"])) }\n",
    "# print(log_temp_dict)\n",
    "# structured_log[\"EventId\"] = structured_log[\"EventId\"].apply(lambda x: log_temp_dict.get(x, -1))\n",
    "\n",
    "# Create a map of BlockId vs the EventSequence. \n",
    "data_dict = OrderedDict()\n",
    "\n",
    "for idx, row in structured_log.iterrows():\n",
    "    block_ids = set(re.findall(r'(blk_-?\\d+)', row['Content']))\n",
    "    for block in block_ids:\n",
    "        if not block in data_dict:\n",
    "            data_dict[block] = []\n",
    "        data_dict[block].append(row['EventId'])\n",
    "data_df = pd.DataFrame(list(data_dict.items()), columns=['BlockId', 'EventSequence'])\n",
    "\n",
    "\n",
    "\n",
    "# Add anomaly label to the data tagged to block id\n",
    "label_data = pd.read_csv(label_file_name, engine='c', na_filter=False, memory_map=True)\n",
    "label_data = label_data.set_index('BlockId')\n",
    "label_dict = label_data['Label'].to_dict()\n",
    "data_df['Label'] = data_df['BlockId'].apply(lambda x: 1 if label_dict[x] == 'Anomaly' else 0)\n",
    "\n",
    "\n",
    "data_df.to_csv('data_instances.csv', index=False)\n"
   ]
  },
  {
   "cell_type": "code",
   "execution_count": 48,
   "id": "28be186c",
   "metadata": {},
   "outputs": [
    {
     "name": "stdout",
     "output_type": "stream",
     "text": [
      "41 28\n"
     ]
    }
   ],
   "source": [
    "def split_data(x_data, y_data=None, train_ratio=0):\n",
    "    num_train = int(train_ratio * x_data.shape[0])\n",
    "    x_train = x_data[0:num_train]\n",
    "    x_test = x_data[num_train:]\n",
    "    y_train = y_data[0:num_train]\n",
    "    y_test = y_data[num_train:]\n",
    "    return (x_train,y_train),(x_test,y_test)\n",
    "\n",
    "# Split train and test data\n",
    "(x_train, y_train), (x_test, y_test) = split_data(data_df['EventSequence'].values, \n",
    "     data_df['Label'].values,0.5)\n",
    "\n",
    "print(y_train.sum(), y_test.sum())\n",
    "\n",
    "\n",
    "\n",
    "# (x_train, y_train), (x_test, y_test) = dataloader.load_HDFS(...)\n",
    "\n",
    "\n",
    "\n",
    "\n",
    "## apply ML to it\n",
    "\n",
    "\n"
   ]
  },
  {
   "cell_type": "code",
   "execution_count": null,
   "id": "837d3f59",
   "metadata": {},
   "outputs": [],
   "source": []
  }
 ],
 "metadata": {
  "kernelspec": {
   "display_name": "Python 3 (ipykernel)",
   "language": "python",
   "name": "python3"
  },
  "language_info": {
   "codemirror_mode": {
    "name": "ipython",
    "version": 3
   },
   "file_extension": ".py",
   "mimetype": "text/x-python",
   "name": "python",
   "nbconvert_exporter": "python",
   "pygments_lexer": "ipython3",
   "version": "3.9.7"
  }
 },
 "nbformat": 4,
 "nbformat_minor": 5
}
